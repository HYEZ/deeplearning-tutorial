{
 "cells": [
  {
   "cell_type": "code",
   "execution_count": 62,
   "metadata": {},
   "outputs": [
    {
     "name": "stdout",
     "output_type": "stream",
     "text": [
      "{1: [2], 2: [22, 4, 1, 1, 4], 3: [222]}\n",
      "3\n"
     ]
    }
   ],
   "source": [
    "def solution(N, number):\n",
    "    obj ={\n",
    "        1: [N]\n",
    "    }\n",
    "    for i in range(2, 8):\n",
    "        obj[i], chk = f(i, N, obj, number)\n",
    "        if chk:\n",
    "            print(obj)\n",
    "            return i\n",
    "\n",
    "    print(obj)\n",
    "    return -1\n",
    "\n",
    "\n",
    "def f(k, N, obj, number):\n",
    "    res = makeNumber(k, N)\n",
    "    for i in range(1, (k+1)//2+1):\n",
    "        a = obj[i]\n",
    "        b = obj[k-i]\n",
    "        tmp  = calc(a, b)\n",
    "        if number in tmp:\n",
    "            return res, True\n",
    "        res += tmp\n",
    "\n",
    "    return res, False\n",
    "\n",
    "\n",
    "def calc(A, B):\n",
    "    arr = []\n",
    "    for b in B:\n",
    "        for a in A:            \n",
    "            arr += list(filter(lambda x: x > 0, [a+b, a-b, b-a, a//b, b//a, a*b]))\n",
    "\n",
    "    return arr\n",
    "\n",
    "def makeNumber(k, N):\n",
    "    s = ''\n",
    "    for i in range(k):\n",
    "        s = s + str(N)\n",
    "    return [int(s)]\n",
    "\n",
    "\n",
    "N = 2\t\n",
    "number = 24\n",
    "print(solution(N, number))\n"
   ]
  },
  {
   "cell_type": "code",
   "execution_count": null,
   "metadata": {},
   "outputs": [],
   "source": []
  }
 ],
 "metadata": {
  "kernelspec": {
   "display_name": "Python 3",
   "language": "python",
   "name": "python3"
  },
  "language_info": {
   "codemirror_mode": {
    "name": "ipython",
    "version": 3
   },
   "file_extension": ".py",
   "mimetype": "text/x-python",
   "name": "python",
   "nbconvert_exporter": "python",
   "pygments_lexer": "ipython3",
   "version": "3.7.6"
  }
 },
 "nbformat": 4,
 "nbformat_minor": 4
}
