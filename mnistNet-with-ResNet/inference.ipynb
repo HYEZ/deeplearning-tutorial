{
 "cells": [
  {
   "cell_type": "code",
   "execution_count": 3,
   "metadata": {},
   "outputs": [],
   "source": [
    "from __future__ import absolute_import \n",
    "from __future__ import division\n",
    "from __future__ import print_function\n",
    "\n",
    "import numpy as np \n",
    "import os \n",
    "from imutils import paths\n",
    "import cv2\n",
    "\n",
    "\n",
    "\n",
    "from tensorflow.keras import backend\n",
    "from tensorflow.keras import layers\n",
    "from tensorflow.keras import models\n",
    "from tensorflow.keras import regularizers\n",
    "from tensorflow.keras import utils\n",
    "from tensorflow.keras import optimizers\n",
    "\n",
    "from tensorflow.keras import optimizers\n",
    "from tensorflow.keras.preprocessing.image import ImageDataGenerator\n",
    "\n",
    "from util import *\n",
    "from params import *\n",
    "\n"
   ]
  },
  {
   "cell_type": "code",
   "execution_count": 16,
   "metadata": {},
   "outputs": [
    {
     "name": "stdout",
     "output_type": "stream",
     "text": [
      "i v r\n",
      "1 2 2\n",
      "2 0 0\n",
      "3 5 9\n",
      "4 0 9\n",
      "5 3 3\n",
      "6 9 7\n",
      "7 0 0\n",
      "8 3 3\n",
      "9 0 0\n",
      "10 3 3\n",
      "11 3 5\n",
      "12 7 7\n",
      "13 3 5\n",
      "14 0 0\n",
      "15 9 4\n",
      "16 3 3\n",
      "17 3 3\n",
      "18 1 1\n",
      "19 9 9\n",
      "20 0 0\n",
      "21 9 9\n",
      "22 1 1\n",
      "23 1 1\n",
      "24 5 5\n",
      "25 7 7\n",
      "26 4 4\n",
      "27 2 2\n",
      "28 7 7\n",
      "29 1 4\n",
      "30 7 7\n",
      "31 7 7\n",
      "32 5 5\n"
     ]
    }
   ],
   "source": [
    "\n",
    "# cnn\t \t= models.load_model(\"/mnt/c/Users/Z440_user1/Desktop/dataset/mnistNet/mnistNet_cnn.hdf5\")\n",
    "resnet\t \t= models.load_model(\"/mnt/c/Users/Z440_user1/Desktop/test.hdf5\")\n",
    "vgg\t \t= models.load_model(\"/mnt/c/Users/Z440_user1/Desktop/dataset/mnistNet/mnistNet.hdf5\")\n",
    "\n",
    "imgInfer \t= np.zeros((BATCH_SIZE, HEIGHT, WIDTH, CHANNEL))\n",
    "\n",
    "for i in range(BATCH_SIZE):\n",
    "\n",
    "    path_test \t= '/mnt/c/Users/Z440_user1/Desktop/dataset/mnistNet/data/testSample/img_'+str(i+1)+'.jpg'\n",
    "    \n",
    "    img \t\t= cv2.imread(path_test)\n",
    "    img \t\t= np.array(img[:,:,0], dtype = 'float32')\n",
    "    img \t\t= cv2.resize(img, (HEIGHT,WIDTH), interpolation = cv2.INTER_AREA)\n",
    "    img \t\t/= 255\n",
    "    img \t\t= np.expand_dims(img, axis=2)\n",
    "    img \t\t= np.expand_dims(img, axis=0)\t\n",
    "\n",
    "    imgInfer[i,...] = img \n",
    "\n",
    "# pred_cnn \t= cnn.predict(imgInfer)\n",
    "pred_resnet \t= resnet.predict(imgInfer)\n",
    "pred_vgg \t= vgg.predict(imgInfer)\n",
    "\n",
    "print(\"i v r\")\n",
    "for i in range(BATCH_SIZE):\n",
    "    print(i+1,  LABEL[np.argmax(pred_vgg[i])], LABEL[np.argmax(pred_resnet[i])])\n",
    "\n",
    "\n"
   ]
  },
  {
   "cell_type": "code",
   "execution_count": null,
   "metadata": {},
   "outputs": [],
   "source": []
  }
 ],
 "metadata": {
  "kernelspec": {
   "display_name": "Python 3",
   "language": "python",
   "name": "python3"
  },
  "language_info": {
   "codemirror_mode": {
    "name": "ipython",
    "version": 3
   },
   "file_extension": ".py",
   "mimetype": "text/x-python",
   "name": "python",
   "nbconvert_exporter": "python",
   "pygments_lexer": "ipython3",
   "version": "3.7.6"
  }
 },
 "nbformat": 4,
 "nbformat_minor": 4
}
